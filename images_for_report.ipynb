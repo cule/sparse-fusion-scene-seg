{
 "cells": [
  {
   "cell_type": "code",
   "execution_count": 1,
   "metadata": {},
   "outputs": [],
   "source": [
    "import torch\n",
    "import numpy as np\n",
    "import os\n",
    "import matplotlib.pyplot as plt\n",
    "import pickle\n",
    "import cv2 as cv"
   ]
  },
  {
   "cell_type": "code",
   "execution_count": 3,
   "metadata": {},
   "outputs": [
    {
     "name": "stdout",
     "output_type": "stream",
     "text": [
      "[0.51152644064447, 0.39171744937764474, 0.0664456494039611, 0.002729446433014019, 0.007397811935557633, 0.020183202205352607]\n"
     ]
    }
   ],
   "source": [
    "# Let's get class dists\n",
    "fname_combined = os.path.join(\"data\",\"class_weights_COMBINED.pkl\")\n",
    "\n",
    "with open(fname_combined,\"rb\") as f:\n",
    "    weights = pickle.load(f)\n",
    "    \n",
    "tot = np.sum(list(weights.values()))\n",
    "\n",
    "print([weights[i]/tot for i in range(len(list(weights.keys())))])"
   ]
  },
  {
   "cell_type": "code",
   "execution_count": 4,
   "metadata": {},
   "outputs": [
    {
     "data": {
      "image/png": "[encoded data removed]",
      "text/plain": [
       "<Figure size 432x288 with 1 Axes>"
      ]
     },
     "metadata": {
      "needs_background": "light"
     },
     "output_type": "display_data"
    }
   ],
   "source": [
    "#Now let's plot dist over all 55 classes\n",
    "fname_tot = os.path.join(\"data\",\"class_weights.pkl\")\n",
    "\n",
    "with open(fname_tot,\"rb\") as f:\n",
    "    weights_tot = pickle.load(f)\n",
    "    \n",
    "tot = np.sum(list(weights_tot.values()))\n",
    "\n",
    "vals = [weights[i]/tot for i in range(len(list(weights.keys())))]\n",
    "vals.sort()\n",
    "vals = vals[]\n",
    "\n",
    "# Now plot\n",
    "xs = [i for i in range(len(vals))]\n",
    "ys = vals\n",
    "plt.plot(xs, ys)\n",
    "plt.xlabel(\"Ground Truth Class, Sorted\")\n",
    "plt.ylabel(\"Total Number of Point Instances\")\n",
    "plt.title(\"Distribution of Ground Truth Classes over the Training Set\")\n",
    "plt.show()"
   ]
  },
  {
   "cell_type": "code",
   "execution_count": 6,
   "metadata": {},
   "outputs": [
    {
     "ename": "KeyError",
     "evalue": "'RGB'",
     "output_type": "error",
     "traceback": [
      "\u001b[0;31m---------------------------------------------------------------------------\u001b[0m",
      "\u001b[0;31mKeyError\u001b[0m                                  Traceback (most recent call last)",
      "\u001b[0;32m<ipython-input-6-6b81b05f3da6>\u001b[0m in \u001b[0;36m<module>\u001b[0;34m\u001b[0m\n\u001b[1;32m     10\u001b[0m \u001b[0mkey\u001b[0m \u001b[0;34m=\u001b[0m \u001b[0mkeys\u001b[0m\u001b[0;34m[\u001b[0m\u001b[0;36m100\u001b[0m\u001b[0;34m]\u001b[0m\u001b[0;34m\u001b[0m\u001b[0;34m\u001b[0m\u001b[0m\n\u001b[1;32m     11\u001b[0m \u001b[0;34m\u001b[0m\u001b[0m\n\u001b[0;32m---> 12\u001b[0;31m \u001b[0mA\u001b[0m \u001b[0;34m=\u001b[0m \u001b[0mD\u001b[0m\u001b[0;34m[\u001b[0m\u001b[0mkey\u001b[0m\u001b[0;34m]\u001b[0m\u001b[0;34m[\u001b[0m\u001b[0;34m'RGB'\u001b[0m\u001b[0;34m]\u001b[0m\u001b[0;34m\u001b[0m\u001b[0;34m\u001b[0m\u001b[0m\n\u001b[0m\u001b[1;32m     13\u001b[0m \u001b[0mprint\u001b[0m\u001b[0;34m(\u001b[0m\u001b[0mA\u001b[0m\u001b[0;34m.\u001b[0m\u001b[0mshape\u001b[0m\u001b[0;34m)\u001b[0m\u001b[0;34m\u001b[0m\u001b[0;34m\u001b[0m\u001b[0m\n",
      "\u001b[0;31mKeyError\u001b[0m: 'RGB'"
     ]
    }
   ],
   "source": [
    "# Plot semantic segmentation in RGB\n",
    "road_labels = [32,40,44,42,50,27,40,42,44,50]\n",
    "\n",
    "f_in = os.path.join(os.getcwd(), \"data\", \"dataset_pc_labels_camera_start_0_stop_10000_ROAD_DETECTION.pkl\")\n",
    "with open(f_in,\"rb\") as f:\n",
    "    D = pickle.load(f)\n",
    "    f.close()\n",
    "    \n",
    "keys = list(D.keys())\n",
    "key = keys[100]\n",
    "\n"
   ]
  },
  {
   "cell_type": "code",
   "execution_count": 8,
   "metadata": {},
   "outputs": [
    {
     "name": "stdout",
     "output_type": "stream",
     "text": [
      "(6542, 3)\n"
     ]
    },
    {
     "data": {
      "image/png": "[encoded data removed]",
      "text/plain": [
       "<Figure size 432x288 with 1 Axes>"
      ]
     },
     "metadata": {
      "needs_background": "light"
     },
     "output_type": "display_data"
    }
   ],
   "source": [
    "A = D[key]['rgb']\n",
    "print(A.shape)\n",
    "\n"
   ]
  },
  {
   "cell_type": "code",
   "execution_count": null,
   "metadata": {},
   "outputs": [],
   "source": []
  }
 ],
 "metadata": {
  "kernelspec": {
   "display_name": "ptl",
   "language": "python",
   "name": "ptl"
  },
  "language_info": {
   "codemirror_mode": {
    "name": "ipython",
    "version": 3
   },
   "file_extension": ".py",
   "mimetype": "text/x-python",
   "name": "python",
   "nbconvert_exporter": "python",
   "pygments_lexer": "ipython3",
   "version": "3.7.5"
  }
 },
 "nbformat": 4,
 "nbformat_minor": 2
}
